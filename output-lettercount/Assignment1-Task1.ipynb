{
 "cells": [
  {
   "cell_type": "code",
   "execution_count": 16,
   "metadata": {},
   "outputs": [],
   "source": [
    "%matplotlib inline"
   ]
  },
  {
   "cell_type": "code",
   "execution_count": 29,
   "metadata": {},
   "outputs": [
    {
     "name": "stdout",
     "output_type": "stream",
     "text": [
      "       1\n",
      "0       \n",
      "a  10170\n",
      "b   4860\n",
      "c   4298\n",
      "d   2743\n",
      "e   3491\n",
      "f   4130\n",
      "g   1770\n",
      "h   3106\n",
      "i   8685\n",
      "j    344\n",
      "k    465\n",
      "l   2689\n",
      "m   4819\n",
      "n   2062\n",
      "o   9720\n",
      "p   3880\n",
      "q    173\n",
      "r   2504\n",
      "s   7411\n",
      "t  18600\n",
      "u   1110\n",
      "v    935\n",
      "w   5886\n",
      "x     32\n",
      "y    479\n",
      "z     55\n"
     ]
    },
    {
     "data": {
      "image/png": "[encoded data removed]",
      "text/plain": [
       "<Figure size 432x288 with 1 Axes>"
      ]
     },
     "metadata": {},
     "output_type": "display_data"
    }
   ],
   "source": [
    "import numpy as np\n",
    "import matplotlib.pyplot as plt\n",
    "import pandas as pnds\n",
    "\n",
    "lettercount = pnds.read_table('part-00000', header=None, index_col=0)\n",
    "print(lettercount)\n",
    "plot = lettercount.plot(title='Number of words starting with each letter', kind='bar', legend=None)\n",
    "plot.set_xlabel(\"Letter\")\n",
    "plot.set_ylabel(\"Number of words\")\n",
    "plt.savefig('lettercount.png')\n",
    "plt.show()"
   ]
  },
  {
   "cell_type": "code",
   "execution_count": 30,
   "metadata": {},
   "outputs": [
    {
     "name": "stdout",
     "output_type": "stream",
     "text": [
      "total 92\r\n",
      "drwxr-xr-x 10 ubuntu ubuntu  4096 Apr 17 12:16 \u001b[0m\u001b[01;34m.\u001b[0m/\r\n",
      "drwxr-xr-x  3 root   root    4096 Mar 27 13:46 \u001b[01;34m..\u001b[0m/\r\n",
      "-rw-rw-r--  1 ubuntu ubuntu 10855 Apr 17 12:16 Assignment1-Task1.ipynb\r\n",
      "-rw-------  1 ubuntu ubuntu  2256 Apr 10 06:47 .bash_history\r\n",
      "-rw-r--r--  1 ubuntu ubuntu   220 Aug 31  2015 .bash_logout\r\n",
      "-rw-r--r--  1 ubuntu ubuntu  3771 Aug 31  2015 .bashrc\r\n",
      "drwx------  4 ubuntu ubuntu  4096 Apr 17 12:01 \u001b[01;34m.cache\u001b[0m/\r\n",
      "drwxrwxr-x  3 ubuntu ubuntu  4096 Apr 17 12:01 \u001b[01;34m.config\u001b[0m/\r\n",
      "drwxrwxr-x  2 ubuntu ubuntu  4096 Apr 17 10:58 \u001b[01;34m.ipynb_checkpoints\u001b[0m/\r\n",
      "drwxr-xr-x  5 ubuntu ubuntu  4096 Apr 17 10:57 \u001b[01;34m.ipython\u001b[0m/\r\n",
      "drwx------  2 ubuntu ubuntu  4096 Mar 27 14:48 \u001b[01;34m.jupyter\u001b[0m/\r\n",
      "-rw-rw-r--  1 ubuntu ubuntu 14356 Apr 17 12:19 \u001b[01;35mlettercount.png\u001b[0m\r\n",
      "drwx------  5 ubuntu ubuntu  4096 Apr 17 10:57 \u001b[01;34m.local\u001b[0m/\r\n",
      "drwxrwxr-x  2 ubuntu ubuntu  4096 Mar 27 14:43 \u001b[01;34m.nano\u001b[0m/\r\n",
      "-rw-rw-r--  1 ubuntu ubuntu   175 Apr 17 10:55 part-00000\r\n",
      "-rw-r--r--  1 ubuntu ubuntu   655 May 16  2017 .profile\r\n",
      "-rw-------  1 ubuntu ubuntu  1024 Mar 27 14:48 .rnd\r\n",
      "drwx------  2 ubuntu ubuntu  4096 Mar 27 14:20 \u001b[01;34m.ssh\u001b[0m/\r\n",
      "-rw-r--r--  1 ubuntu ubuntu     0 Mar 27 13:46 .sudo_as_admin_successful\r\n"
     ]
    }
   ],
   "source": []
  }
 ],
 "metadata": {
  "kernelspec": {
   "display_name": "Python 2",
   "language": "python",
   "name": "python2"
  },
  "language_info": {
   "codemirror_mode": {
    "name": "ipython",
    "version": 2
   },
   "file_extension": ".py",
   "mimetype": "text/x-python",
   "name": "python",
   "nbconvert_exporter": "python",
   "pygments_lexer": "ipython2",
   "version": "2.7.12"
  }
 },
 "nbformat": 4,
 "nbformat_minor": 2
}

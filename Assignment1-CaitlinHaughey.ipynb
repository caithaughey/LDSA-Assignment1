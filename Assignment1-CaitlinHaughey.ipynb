{
 "cells": [
  {
   "cell_type": "markdown",
   "metadata": {},
   "source": [
    "    Author: Caitlin Haughey\n",
    "    Date: 2018-04-23\n",
    "\n",
    "\n",
    "# Assignment 1 - LDSA\n",
    "\n",
    "\n",
    "## Part I: Intro to HDFS/Hadoop and Wordcount\n",
    "\n",
    "### Task 1.1\n",
    "\n",
    "1. **Question** - *Look at the contents of the folder “output” - what are the files placed in there? What do they mean?*  \n",
    "**Answer** - The files created in the output folder are “part-r-00000” and “_SUCCESS”. The first file contains the result of the word count performed on the input file used, and the other file is an empty file that simply specifies that the run of the word count application was successful.\n",
    "\n",
    "2. **Question** - *In this example we used Hadoop in “Local (Standalone) Mode”. What is the difference between this mode and the Pseudo-distributed mode?*   \n",
    "**Answer** - The local (standalone) mode is the default for Hadoop and it runs in a non-distributed mode, which means that it runs as a single java process. The pseudo-distributed mode means that each Hadoop daemon runs in a separate Java process.\n",
    "\n",
    "### Task 1.2\n",
    "\n",
    "1. **Question** - *What are the roles of the files core-site.xml and hdfs-site.xml?*  \n",
    "**Answer** - The core-site.xml file stores the specific configuration settings for the Hadoop Core, such as where the I/O settings for NameNodes host and port. The hdfs-site.xml file contains the configuration settings for HDFS daemons; the NameNode, the Secondary NameNode, and the DataNodes. \n",
    "\n",
    "2. **Question** - *Describe briefly the roles of the different services listed when executing ‘jps’.*  \n",
    "**Answer** - The NameNode is the master node of the hadoop cluster and is considered the primary node for the hdfs cluster with the purpose of storing the metadata information. The DataNodes are the slave nodes of the hdfs cluster, and the work performed by each one of these datanodes is based on the instructions in the namenode. The datanodes are used to store, retrieve and process data, and report back to the namenode periodically. The SecondaryNameNode is used to merge the FSImage and editlog periodically to prevent the edit log from becoming very large\n",
    "\n",
    "### Task 1.3\n",
    "\n",
    "1. **Question** - *Explain the roles of the different classes in the file WordCount.java.*   \n",
    "**Answer** - First the constructor for the class is created by the line “public class WordCount {“. WordCount then has three nested classes, the Driver class (“public void static main”), the Map class (“public static class Map extends MapReduceBase implements Mapper<LongWritable, Text, Text, IntWritable>”),  and the Reduce class (“public static class Reduce extends MapReduceBase implements Reducer<Text, IntWritable, Text, IntWritable>”). The Driver class sets up the configuration of the input and output data formats, specifies the types of intermediate data produced etc. The Driver then submits the job to the Hadoop cluster to be executed there. The Map class performs the Mapping function, taking a set of data as input and converts it into another data type known as <Key, Value> pairs. The Reducer class performs the Reduce function, which takes the output of the Map function as the input and combines the values with the same key. \n",
    "\n",
    "### Task 1.4 \n",
    "\n",
    "1. **Question** - *Describe the role of Combiners in MapReduce and Modify the code from Task1 so that it uses a Combiner.*  \n",
    "**Answer** - The Combiners in MapReduce are used to perform a local reduce on the output on one mapper before the output is sent to the reducer stage. This reduces the memory/disk requirement of the map tasks and thus minimizing the volume of data transfer between between map and reduce tasks.\n"
   ]
  },
  {
   "cell_type": "code",
   "execution_count": 16,
   "metadata": {},
   "outputs": [],
   "source": [
    "%matplotlib inline"
   ]
  },
  {
   "cell_type": "code",
   "execution_count": 2,
   "metadata": {},
   "outputs": [
    {
     "name": "stdout",
     "output_type": "stream",
     "text": [
      "       1\n",
      "0       \n",
      "a  10170\n",
      "b   4860\n",
      "c   4298\n",
      "d   2743\n",
      "e   3491\n",
      "f   4130\n",
      "g   1770\n",
      "h   3106\n",
      "i   8685\n",
      "j    344\n",
      "k    465\n",
      "l   2689\n",
      "m   4819\n",
      "n   2062\n",
      "o   9720\n",
      "p   3880\n",
      "q    173\n",
      "r   2504\n",
      "s   7411\n",
      "t  18600\n",
      "u   1110\n",
      "v    935\n",
      "w   5886\n",
      "x     32\n",
      "y    479\n",
      "z     55\n"
     ]
    },
    {
     "data": {
      "image/png": "[encoded data removed]",
      "text/plain": [
       "<Figure size 432x288 with 1 Axes>"
      ]
     },
     "metadata": {},
     "output_type": "display_data"
    }
   ],
   "source": [
    "import numpy as np\n",
    "import matplotlib.pyplot as plt\n",
    "import pandas as pnds\n",
    "\n",
    "#### This script reads the reads the results from the mapreduce letter count using the pandas read_table() function.\n",
    "#### It then plots these results in a bar chart to visualize the number of words in the data that start with each letter.\n",
    "#### The mapreduce was performed using the LetterCount.java script.\n",
    "\n",
    "# read results from the mapreduce \"part-00000\" file as a pandas table \n",
    "lettercount = pnds.read_table('part-00000', header=None, index_col=0)\n",
    "print(lettercount)\n",
    "# plot results as a bar-plot\n",
    "plot = lettercount.plot(title='Number of words starting with each letter', kind='bar', legend=None)\n",
    "# set axes-labeles\n",
    "plot.set_xlabel(\"Letter\")\n",
    "plot.set_ylabel(\"Number of words\")\n",
    "# save the plot as an image\n",
    "plt.savefig('lettercount.png')\n",
    "plt.show()"
   ]
  },
  {
   "cell_type": "markdown",
   "metadata": {},
   "source": [
    "## Part II: Analyzing twitter data using Hadoop streaming and Python\n",
    "\n",
    "1. **Question** - *Based on the documentation in the above link, how would you classify the JSON-formatted tweets? Structured, semi-structured or unstructured data? What could be the challenges of using traditional row-based RDBMs to store and analyze this dataset (apart from the possibility of very large datasets)?*  \n",
    "**Answer** - I would classify JSON-formatted tweets as semi-structured data, because they do have a fixed syntax and structure with many different data types which unstructured data does not have. However since JSON tweets are not easily implemented into traditional RDBMs they cannot be classified as structured data. Some challenges of using RDBMs for JSON datasets is that they use different types of structures for data storage. RDBMs use tables to store data in rows and columns, while JSON instead uses objects and arrays (which can be nested recursively). This means that the JSON data would have to be re-formated to fit into the RDBMs structure before it can be stored and analyzed in a relational database, since in RDBMS the retrieving and sorting of the data is based on the specific table structure in relational databases."
   ]
  },
  {
   "cell_type": "code",
   "execution_count": 1,
   "metadata": {},
   "outputs": [],
   "source": [
    "%matplotlib inline"
   ]
  },
  {
   "cell_type": "code",
   "execution_count": 4,
   "metadata": {},
   "outputs": [
    {
     "name": "stdout",
     "output_type": "stream",
     "text": [
      "              0\n",
      "den    0.482372\n",
      "han    0.271195\n",
      "det    0.178413\n",
      "hon    0.124053\n",
      "hen    0.010937\n",
      "denna  0.008985\n",
      "denne  0.001577\n"
     ]
    },
    {
     "data": {
      "image/png": "[encoded data removed]",
      "text/plain": [
       "<Figure size 432x288 with 1 Axes>"
      ]
     },
     "metadata": {},
     "output_type": "display_data"
    }
   ],
   "source": [
    "import numpy as np\n",
    "import matplotlib.pyplot as plt\n",
    "import pandas as pnds\n",
    "import csv\n",
    "\n",
    "#### This script takes the results of the python word count for the twitter data and plots it as a bar chart.\n",
    "#### The results were calculated in two batches due to memory storage issues in hadoop, which is why the results\n",
    "#### had to be added together to a final dictionary in the first for-loop bellow. The results are opened and read as\n",
    "#### a csv-file named \"twitter-results\" and then added together into a python dictionary \"wordcount\".\n",
    "#### The script also openes the \"count_tweets.txt\" file, which is the result of the counter.py script that calculates\n",
    "#### the number of unique tweets in the twitter-data. This number is then used to normalize the word count.\n",
    "#### The wordcount dict is then converted to the pandas DataFrame-format which gives us the results in a table,\n",
    "#### which in turn can be easily plotted into a bar chart to visualize the occurences of each Swedish pronoun \n",
    "#### (normalized by the number of unique tweets). \n",
    "\n",
    "#### The Twitter word count was calculated using the mapper.py and reducer.py script along with the hadoop streaming API\n",
    "#### to perform a mapreduce on the data. The count_tweets.txt results were calculated using the counter.py script\n",
    "#### and iterating through all the tweets-files. \n",
    "\n",
    "# open the \"twitter-results\" file\n",
    "with open('twitter-results') as infile:\n",
    "    # read the results as a tsv file (read as csv but with \"\\t\" as delimiter instead of \",\")\n",
    "    reader = csv.reader(infile, delimiter='\\t')\n",
    "    # create empty dictionary\n",
    "    wordcount = {}\n",
    "    # open file containing the number of unique tweets, to be used to normalize result from the word count\n",
    "    count_file = open('count_tweets.txt')\n",
    "    # read from the file and convert string to float-variable containing the number of unique tweets\n",
    "    nr_of_unique_tweets = float(count_file.read())\n",
    "    \n",
    "    # iterate through the file to add the results from the separate runs together into one list\n",
    "    for row in reader:\n",
    "        # save the rows key and value (k and v)\n",
    "        k, v = row\n",
    "        # turn value from string to integer\n",
    "        v = float(v)\n",
    "        # Check if the key is already in our output dict\n",
    "        if k in wordcount.keys():\n",
    "            # if it is, add values\n",
    "            wordcount[k] += v\n",
    "        # If not, create it\n",
    "        else:\n",
    "            wordcount[k] = v\n",
    "    # normalize the values by the total number of unique tweets\n",
    "    for k in wordcount:\n",
    "        wordcount[k] = wordcount[k]/nr_of_unique_tweets \n",
    "        \n",
    "    # save dictionary as a pandas DataFrame        \n",
    "    twitter_wordcount = pnds.DataFrame.from_dict(wordcount, 'index')\n",
    "    # sort the DataFrame by values\n",
    "    twitter_wordcount = twitter_wordcount.sort_values([0], ascending=False)\n",
    "    print(twitter_wordcount)\n",
    "    # plot result in bar-plot\n",
    "    plot = twitter_wordcount.plot(title='Number of times each swedish pronoun is occures in a tweet', kind='bar', legend=None)\n",
    "    plot.set_xlabel(\"Pronoun\")\n",
    "    plot.set_ylabel(\"Number of times occuring (normalized)\")\n",
    "    # save the bar chart as an image\n",
    "    plt.savefig('twitter_wordcount.png')\n",
    "    plt.show()"
   ]
  },
  {
   "cell_type": "code",
   "execution_count": null,
   "metadata": {},
   "outputs": [],
   "source": []
  }
 ],
 "metadata": {
  "kernelspec": {
   "display_name": "Python 2",
   "language": "python",
   "name": "python2"
  },
  "language_info": {
   "codemirror_mode": {
    "name": "ipython",
    "version": 2
   },
   "file_extension": ".py",
   "mimetype": "text/x-python",
   "name": "python",
   "nbconvert_exporter": "python",
   "pygments_lexer": "ipython2",
   "version": "2.7.12"
  }
 },
 "nbformat": 4,
 "nbformat_minor": 2
}
